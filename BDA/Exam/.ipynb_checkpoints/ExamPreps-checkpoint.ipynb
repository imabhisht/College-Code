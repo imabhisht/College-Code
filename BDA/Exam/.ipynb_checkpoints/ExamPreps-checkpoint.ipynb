{
 "cells": [
  {
   "cell_type": "code",
   "execution_count": 9,
   "id": "b22ad3d5-07e6-496b-82a5-139892051c1b",
   "metadata": {},
   "outputs": [
    {
     "data": {
      "text/plain": [
       "\u001b[36mnum\u001b[39m: \u001b[32mList\u001b[39m[\u001b[32mInt\u001b[39m] = \u001b[33mList\u001b[39m(\u001b[32m1\u001b[39m, \u001b[32m2\u001b[39m, \u001b[32m3\u001b[39m, \u001b[32m4\u001b[39m, \u001b[32m5\u001b[39m, \u001b[32m6\u001b[39m, \u001b[32m7\u001b[39m)"
      ]
     },
     "execution_count": 9,
     "metadata": {},
     "output_type": "execute_result"
    }
   ],
   "source": [
    "val num = List(1,2,3,4,5,6,7)"
   ]
  },
  {
   "cell_type": "code",
   "execution_count": 14,
   "id": "6f114114-7e5e-40f2-bd2f-c7b7d2334b15",
   "metadata": {},
   "outputs": [
    {
     "data": {
      "text/plain": [
       "\u001b[36mres14\u001b[39m: \u001b[32mList\u001b[39m[\u001b[32mInt\u001b[39m] = \u001b[33mList\u001b[39m(\u001b[32m1\u001b[39m, \u001b[32m2\u001b[39m, \u001b[32m3\u001b[39m, \u001b[32m4\u001b[39m, \u001b[32m5\u001b[39m)"
      ]
     },
     "execution_count": 14,
     "metadata": {},
     "output_type": "execute_result"
    }
   ],
   "source": [
    "num.take(5)"
   ]
  },
  {
   "cell_type": "code",
   "execution_count": 17,
   "id": "8f09ad08-3a3a-4645-bfeb-696cad213429",
   "metadata": {
    "editable": true,
    "slideshow": {
     "slide_type": ""
    },
    "tags": []
   },
   "outputs": [
    {
     "data": {
      "text/plain": [
       "\u001b[36mres17\u001b[39m: \u001b[32mInt\u001b[39m = \u001b[32m3\u001b[39m"
      ]
     },
     "execution_count": 17,
     "metadata": {},
     "output_type": "execute_result"
    }
   ],
   "source": [
    "num(2)"
   ]
  },
  {
   "cell_type": "code",
   "execution_count": 17,
   "id": "1ed7b82c-ff39-4dd7-acbf-511184a4312e",
   "metadata": {},
   "outputs": [
    {
     "name": "stderr",
     "output_type": "stream",
     "text": [
      "cell18.sc:1: value update is not a member of List[Int]\n",
      "did you mean updated?\n",
      "val res18 = num(4)=4\n",
      "            ^\n",
      "Compilation Failed"
     ]
    }
   ],
   "source": [
    "num(4)=4"
   ]
  },
  {
   "cell_type": "code",
   "execution_count": 18,
   "id": "70a7b920-9c36-4b2a-8a7e-be9b14aef419",
   "metadata": {},
   "outputs": [
    {
     "data": {
      "text/plain": [
       "\u001b[36mres18\u001b[39m: \u001b[32mList\u001b[39m[\u001b[32mInt\u001b[39m] = \u001b[33mList\u001b[39m(\u001b[32m7\u001b[39m, \u001b[32m6\u001b[39m, \u001b[32m5\u001b[39m, \u001b[32m4\u001b[39m, \u001b[32m3\u001b[39m, \u001b[32m2\u001b[39m, \u001b[32m1\u001b[39m)"
      ]
     },
     "execution_count": 18,
     "metadata": {},
     "output_type": "execute_result"
    }
   ],
   "source": [
    "num.reverse"
   ]
  },
  {
   "cell_type": "code",
   "execution_count": 25,
   "id": "6b5d5f02-6e1f-4281-8934-94fc8ed4f9ed",
   "metadata": {},
   "outputs": [
    {
     "data": {
      "text/plain": [
       "\u001b[36mres25_0\u001b[39m: \u001b[32mInt\u001b[39m = \u001b[32m1\u001b[39m\n",
       "\u001b[36mres25_1\u001b[39m: \u001b[32mInt\u001b[39m = \u001b[32m7\u001b[39m\n",
       "\u001b[36mres25_2\u001b[39m: \u001b[32mBoolean\u001b[39m = \u001b[32mfalse\u001b[39m"
      ]
     },
     "execution_count": 25,
     "metadata": {},
     "output_type": "execute_result"
    }
   ],
   "source": [
    "num.min\n",
    "num.max\n",
    "num.isEmpty"
   ]
  },
  {
   "cell_type": "code",
   "execution_count": 27,
   "id": "332756e3-5a4e-4402-a763-44d3caad1a94",
   "metadata": {},
   "outputs": [
    {
     "data": {
      "text/html": [
       "<div class=\"jp-RenderedText\">\n",
       "<pre><code><span style=\"color: rgb(0, 187, 187)\"><span class=\"ansi-cyan-fg\">num1</span></span>: <span style=\"color: rgb(0, 187, 0)\"><span class=\"ansi-green-fg\">Array</span></span>[<span style=\"color: rgb(0, 187, 0)\"><span class=\"ansi-green-fg\">Int</span></span>] = <span style=\"color: yellow\"><span class=\"ansi-yellow-fg\">Array</span></span>(<span style=\"color: rgb(0, 187, 0)\"><span class=\"ansi-green-fg\">1</span></span>, <span style=\"color: rgb(0, 187, 0)\"><span class=\"ansi-green-fg\">2</span></span>, <span style=\"color: rgb(0, 187, 0)\"><span class=\"ansi-green-fg\">3</span></span>, <span style=\"color: rgb(0, 187, 0)\"><span class=\"ansi-green-fg\">4</span></span>, <span style=\"color: rgb(0, 187, 0)\"><span class=\"ansi-green-fg\">5</span></span>, <span style=\"color: rgb(0, 187, 0)\"><span class=\"ansi-green-fg\">6</span></span>, <span style=\"color: rgb(0, 187, 0)\"><span class=\"ansi-green-fg\">7</span></span>)</code></pre>\n",
       "</div>"
      ],
      "text/plain": [
       "\u001b[36mnum1\u001b[39m: \u001b[32mArray\u001b[39m[\u001b[32mInt\u001b[39m] = \u001b[33mArray\u001b[39m(\u001b[32m1\u001b[39m, \u001b[32m2\u001b[39m, \u001b[32m3\u001b[39m, \u001b[32m4\u001b[39m, \u001b[32m5\u001b[39m, \u001b[32m6\u001b[39m, \u001b[32m7\u001b[39m)"
      ]
     },
     "metadata": {},
     "output_type": "display_data"
    }
   ],
   "source": [
    "var num1= Array(1,2,3,4,5,6,7)"
   ]
  },
  {
   "cell_type": "code",
   "execution_count": 31,
   "id": "d21dc3ee-d01f-455f-8298-b08e0b84d0c4",
   "metadata": {},
   "outputs": [
    {
     "data": {
      "text/plain": [
       "\u001b[36mlang\u001b[39m: \u001b[32mArray\u001b[39m[\u001b[32mString\u001b[39m] = \u001b[33mArray\u001b[39m(\u001b[32m\"Scala\"\u001b[39m, \u001b[32m\"Python\"\u001b[39m, \u001b[32m\"R\"\u001b[39m)"
      ]
     },
     "execution_count": 31,
     "metadata": {},
     "output_type": "execute_result"
    }
   ],
   "source": [
    "val lang = Array(\"Scala\",\"Python\",\"R\")"
   ]
  },
  {
   "cell_type": "code",
   "execution_count": 34,
   "id": "940dd94d-e885-4628-9dd9-40a5534538c8",
   "metadata": {},
   "outputs": [
    {
     "data": {
      "text/plain": [
       "\u001b[36mres34_0\u001b[39m: \u001b[32mArray\u001b[39m[\u001b[32mString\u001b[39m] = \u001b[33mArray\u001b[39m(\u001b[32m\"Python\"\u001b[39m, \u001b[32m\"R\"\u001b[39m)\n",
       "\u001b[36mres34_1\u001b[39m: \u001b[32mString\u001b[39m = \u001b[32m\"Scala\"\u001b[39m"
      ]
     },
     "execution_count": 34,
     "metadata": {},
     "output_type": "execute_result"
    }
   ],
   "source": [
    "lang.tail\n",
    "lang.head"
   ]
  },
  {
   "cell_type": "code",
   "execution_count": 37,
   "id": "0b5e5699-de81-4931-a1ce-f17856e1d4cd",
   "metadata": {},
   "outputs": [
    {
     "data": {
      "text/plain": [
       "\u001b[36mres37_1\u001b[39m: \u001b[32mArray\u001b[39m[\u001b[32mString\u001b[39m] = \u001b[33mArray\u001b[39m(\u001b[32m\"Scala\"\u001b[39m, \u001b[32m\"Python\"\u001b[39m, \u001b[32m\"C++\"\u001b[39m)"
      ]
     },
     "execution_count": 37,
     "metadata": {},
     "output_type": "execute_result"
    }
   ],
   "source": [
    "lang(2)=\"C++\"\n",
    "lang"
   ]
  },
  {
   "cell_type": "code",
   "execution_count": 39,
   "id": "7a7d034a-8002-431c-9589-ac8977f033e5",
   "metadata": {},
   "outputs": [
    {
     "data": {
      "text/plain": [
       "\u001b[32mimport \u001b[39m\u001b[36mscala.collection.mutable.ArrayBuffer\u001b[39m"
      ]
     },
     "execution_count": 39,
     "metadata": {},
     "output_type": "execute_result"
    }
   ],
   "source": [
    "import scala.collection.mutable.ArrayBuffer"
   ]
  },
  {
   "cell_type": "code",
   "execution_count": 41,
   "id": "12e585af-b8a9-423e-b107-cf9423cbf5d8",
   "metadata": {},
   "outputs": [
    {
     "data": {
      "text/plain": [
       "\u001b[36mcar\u001b[39m: \u001b[32mArrayBuffer\u001b[39m[\u001b[32mString\u001b[39m] = \u001b[33mArrayBuffer\u001b[39m()"
      ]
     },
     "execution_count": 41,
     "metadata": {},
     "output_type": "execute_result"
    }
   ],
   "source": [
    "val car = new ArrayBuffer[String]()"
   ]
  },
  {
   "cell_type": "code",
   "execution_count": 42,
   "id": "3c9dcefa-9e82-4ff6-9e19-a41d33fd041b",
   "metadata": {},
   "outputs": [
    {
     "data": {
      "text/plain": [
       "\u001b[36mres42_0\u001b[39m: \u001b[32mArrayBuffer\u001b[39m[\u001b[32mString\u001b[39m] = \u001b[33mArrayBuffer\u001b[39m(\u001b[32m\"car1\"\u001b[39m, \u001b[32m\"car2\"\u001b[39m, \u001b[32m\"car1\"\u001b[39m)\n",
       "\u001b[36mres42_1\u001b[39m: \u001b[32mArrayBuffer\u001b[39m[\u001b[32mString\u001b[39m] = \u001b[33mArrayBuffer\u001b[39m(\u001b[32m\"car1\"\u001b[39m, \u001b[32m\"car2\"\u001b[39m, \u001b[32m\"car1\"\u001b[39m)\n",
       "\u001b[36mres42_2\u001b[39m: \u001b[32mArrayBuffer\u001b[39m[\u001b[32mString\u001b[39m] = \u001b[33mArrayBuffer\u001b[39m(\u001b[32m\"car1\"\u001b[39m, \u001b[32m\"car2\"\u001b[39m, \u001b[32m\"car1\"\u001b[39m)"
      ]
     },
     "execution_count": 42,
     "metadata": {},
     "output_type": "execute_result"
    }
   ],
   "source": [
    "car.append(\"car1\")\n",
    "car.append(\"car2\")\n",
    "car.append(\"car1\")"
   ]
  },
  {
   "cell_type": "code",
   "execution_count": 43,
   "id": "d276c0c9-d1da-42c5-84af-800094a762c0",
   "metadata": {},
   "outputs": [
    {
     "data": {
      "text/plain": [
       "\u001b[36mres43\u001b[39m: \u001b[32mArrayBuffer\u001b[39m[\u001b[32mString\u001b[39m] = \u001b[33mArrayBuffer\u001b[39m(\u001b[32m\"car1\"\u001b[39m, \u001b[32m\"car2\"\u001b[39m, \u001b[32m\"car1\"\u001b[39m, \u001b[32m\"car3\"\u001b[39m)"
      ]
     },
     "execution_count": 43,
     "metadata": {},
     "output_type": "execute_result"
    }
   ],
   "source": [
    "car += \"car3\""
   ]
  },
  {
   "cell_type": "code",
   "execution_count": 44,
   "id": "a16012ba-ea2d-40e9-bb56-b39a32785e09",
   "metadata": {},
   "outputs": [
    {
     "data": {
      "text/plain": [
       "\u001b[36mres44\u001b[39m: \u001b[32mInt\u001b[39m = \u001b[32m4\u001b[39m"
      ]
     },
     "execution_count": 44,
     "metadata": {},
     "output_type": "execute_result"
    }
   ],
   "source": [
    "car.length"
   ]
  },
  {
   "cell_type": "code",
   "execution_count": 46,
   "id": "31c9f0d4-321c-40e9-8def-8f387adf83f6",
   "metadata": {},
   "outputs": [
    {
     "data": {
      "text/plain": [
       "\u001b[36mres46\u001b[39m: \u001b[32mArrayBuffer\u001b[39m[\u001b[32mString\u001b[39m] = \u001b[33mArrayBuffer\u001b[39m(\u001b[32m\"car1\"\u001b[39m, \u001b[32m\"car2\"\u001b[39m)"
      ]
     },
     "execution_count": 46,
     "metadata": {},
     "output_type": "execute_result"
    }
   ],
   "source": [
    "car.dropRightInPlace(1)\n"
   ]
  },
  {
   "cell_type": "code",
   "execution_count": 47,
   "id": "9714680c-791f-4afd-b847-9d962c5e45ec",
   "metadata": {},
   "outputs": [
    {
     "data": {
      "text/plain": [
       "\u001b[36mres47\u001b[39m: \u001b[32mArrayBuffer\u001b[39m[\u001b[32mString\u001b[39m] = \u001b[33mArrayBuffer\u001b[39m(\u001b[32m\"car1\"\u001b[39m, \u001b[32m\"car2\"\u001b[39m)"
      ]
     },
     "execution_count": 47,
     "metadata": {},
     "output_type": "execute_result"
    }
   ],
   "source": [
    "car"
   ]
  },
  {
   "cell_type": "code",
   "execution_count": 48,
   "id": "4b204b6f-5e1d-40bf-9c94-56afeab63115",
   "metadata": {},
   "outputs": [
    {
     "data": {
      "text/plain": [
       "\u001b[36mres48_0\u001b[39m: \u001b[32mArrayBuffer\u001b[39m[\u001b[32mString\u001b[39m] = \u001b[33mArrayBuffer\u001b[39m(\n",
       "  \u001b[32m\"car1\"\u001b[39m,\n",
       "  \u001b[32m\"car2\"\u001b[39m,\n",
       "  \u001b[32m\"car4\"\u001b[39m,\n",
       "  \u001b[32m\"car5\"\u001b[39m,\n",
       "  \u001b[32m\"car6\"\u001b[39m\n",
       ")\n",
       "\u001b[36mres48_1\u001b[39m: \u001b[32mArrayBuffer\u001b[39m[\u001b[32mString\u001b[39m] = \u001b[33mArrayBuffer\u001b[39m(\n",
       "  \u001b[32m\"car1\"\u001b[39m,\n",
       "  \u001b[32m\"car2\"\u001b[39m,\n",
       "  \u001b[32m\"car4\"\u001b[39m,\n",
       "  \u001b[32m\"car5\"\u001b[39m,\n",
       "  \u001b[32m\"car6\"\u001b[39m\n",
       ")\n",
       "\u001b[36mres48_2\u001b[39m: \u001b[32mArrayBuffer\u001b[39m[\u001b[32mString\u001b[39m] = \u001b[33mArrayBuffer\u001b[39m(\n",
       "  \u001b[32m\"car1\"\u001b[39m,\n",
       "  \u001b[32m\"car2\"\u001b[39m,\n",
       "  \u001b[32m\"car4\"\u001b[39m,\n",
       "  \u001b[32m\"car5\"\u001b[39m,\n",
       "  \u001b[32m\"car6\"\u001b[39m\n",
       ")"
      ]
     },
     "execution_count": 48,
     "metadata": {},
     "output_type": "execute_result"
    }
   ],
   "source": [
    "car += \"car4\"\n",
    "car += \"car5\"\n",
    "car += \"car6\""
   ]
  },
  {
   "cell_type": "code",
   "execution_count": 55,
   "id": "82123db4-c9c3-4046-b9f4-55b9387cd28f",
   "metadata": {},
   "outputs": [
    {
     "data": {
      "text/plain": [
       "\u001b[36mres55_1\u001b[39m: \u001b[32mArrayBuffer\u001b[39m[\u001b[32mString\u001b[39m] = \u001b[33mArrayBuffer\u001b[39m(\n",
       "  \u001b[32m\"car1\"\u001b[39m,\n",
       "  \u001b[32m\"car2\"\u001b[39m,\n",
       "  \u001b[32m\"car4\"\u001b[39m,\n",
       "  \u001b[32m\"BMW\"\u001b[39m,\n",
       "  \u001b[32m\"BMW\"\u001b[39m,\n",
       "  \u001b[32m\"BMW\"\u001b[39m,\n",
       "  \u001b[32m\"BMW\"\u001b[39m,\n",
       "  \u001b[32m\"BMW\"\u001b[39m,\n",
       "  \u001b[32m\"BMW\"\u001b[39m\n",
       ")\n",
       "\u001b[36mres55_2\u001b[39m: \u001b[32mArrayBuffer\u001b[39m[\u001b[32mString\u001b[39m] = \u001b[33mArrayBuffer\u001b[39m(\n",
       "  \u001b[32m\"car1\"\u001b[39m,\n",
       "  \u001b[32m\"car2\"\u001b[39m,\n",
       "  \u001b[32m\"car4\"\u001b[39m,\n",
       "  \u001b[32m\"BMW\"\u001b[39m,\n",
       "  \u001b[32m\"BMW\"\u001b[39m,\n",
       "  \u001b[32m\"BMW\"\u001b[39m,\n",
       "  \u001b[32m\"BMW\"\u001b[39m,\n",
       "  \u001b[32m\"BMW\"\u001b[39m,\n",
       "  \u001b[32m\"BMW\"\u001b[39m\n",
       ")"
      ]
     },
     "execution_count": 55,
     "metadata": {},
     "output_type": "execute_result"
    }
   ],
   "source": [
    "car.insert(3,\"BMW\")\n",
    "car\n"
   ]
  },
  {
   "cell_type": "code",
   "execution_count": 57,
   "id": "c1c82469-5ce4-46ad-a300-bd10cb75376c",
   "metadata": {},
   "outputs": [
    {
     "data": {
      "text/plain": [
       "\u001b[36mres57\u001b[39m: \u001b[32mArrayBuffer\u001b[39m[\u001b[32mString\u001b[39m] = \u001b[33mArrayBuffer\u001b[39m(\u001b[32m\"car1\"\u001b[39m, \u001b[32m\"car2\"\u001b[39m, \u001b[32m\"car4\"\u001b[39m)"
      ]
     },
     "execution_count": 57,
     "metadata": {},
     "output_type": "execute_result"
    }
   ],
   "source": [
    "car.dropRightInPlace(3)"
   ]
  },
  {
   "cell_type": "code",
   "execution_count": 58,
   "id": "bd03656f-83d4-42cf-8a50-6ff2f38b64cf",
   "metadata": {},
   "outputs": [
    {
     "data": {
      "text/plain": [
       "\u001b[36mres58\u001b[39m: \u001b[32mArrayBuffer\u001b[39m[\u001b[32mString\u001b[39m] = \u001b[33mArrayBuffer\u001b[39m(\u001b[32m\"car1\"\u001b[39m, \u001b[32m\"car2\"\u001b[39m, \u001b[32m\"car4\"\u001b[39m)"
      ]
     },
     "execution_count": 58,
     "metadata": {},
     "output_type": "execute_result"
    }
   ],
   "source": [
    "car"
   ]
  },
  {
   "cell_type": "code",
   "execution_count": 64,
   "id": "829c93e9-de32-4197-9fdf-4db9a75e1971",
   "metadata": {},
   "outputs": [
    {
     "data": {
      "text/plain": [
       "\u001b[36mres64_0\u001b[39m: \u001b[32mArray\u001b[39m[\u001b[32mInt\u001b[39m] = \u001b[33mArray\u001b[39m(\u001b[32m1\u001b[39m, \u001b[32m4\u001b[39m, \u001b[32m9\u001b[39m, \u001b[32m16\u001b[39m, \u001b[32m25\u001b[39m, \u001b[32m36\u001b[39m, \u001b[32m49\u001b[39m)\n",
       "\u001b[36mres64_1\u001b[39m: \u001b[32mArray\u001b[39m[\u001b[32mInt\u001b[39m] = \u001b[33mArray\u001b[39m(\u001b[32m1\u001b[39m, \u001b[32m8\u001b[39m, \u001b[32m27\u001b[39m, \u001b[32m64\u001b[39m, \u001b[32m125\u001b[39m, \u001b[32m216\u001b[39m, \u001b[32m343\u001b[39m)\n",
       "\u001b[36mres64_2\u001b[39m: \u001b[32mArray\u001b[39m[\u001b[32mInt\u001b[39m] = \u001b[33mArray\u001b[39m(\u001b[32m3\u001b[39m, \u001b[32m6\u001b[39m, \u001b[32m9\u001b[39m, \u001b[32m12\u001b[39m, \u001b[32m15\u001b[39m, \u001b[32m18\u001b[39m, \u001b[32m21\u001b[39m)"
      ]
     },
     "execution_count": 64,
     "metadata": {},
     "output_type": "execute_result"
    }
   ],
   "source": [
    "num.map(x =>x*x)\n",
    "num.map(x => x*x*x)\n",
    "num.map(x => x*3)"
   ]
  },
  {
   "cell_type": "code",
   "execution_count": 66,
   "id": "95a1012b-c39b-405f-9d3d-0e8b27dd4ee8",
   "metadata": {},
   "outputs": [
    {
     "data": {
      "text/html": [
       "<div class=\"jp-RenderedText\">\n",
       "<pre><code><span style=\"color: rgb(0, 187, 187)\"><span class=\"ansi-cyan-fg\">res66_0</span></span>: <span style=\"color: rgb(0, 187, 0)\"><span class=\"ansi-green-fg\">Array</span></span>[<span style=\"color: rgb(0, 187, 0)\"><span class=\"ansi-green-fg\">Int</span></span>] = <span style=\"color: yellow\"><span class=\"ansi-yellow-fg\">Array</span></span>(<span style=\"color: rgb(0, 187, 0)\"><span class=\"ansi-green-fg\">1</span></span>, <span style=\"color: rgb(0, 187, 0)\"><span class=\"ansi-green-fg\">2</span></span>, <span style=\"color: rgb(0, 187, 0)\"><span class=\"ansi-green-fg\">3</span></span>, <span style=\"color: rgb(0, 187, 0)\"><span class=\"ansi-green-fg\">4</span></span>, <span style=\"color: rgb(0, 187, 0)\"><span class=\"ansi-green-fg\">5</span></span>, <span style=\"color: rgb(0, 187, 0)\"><span class=\"ansi-green-fg\">6</span></span>, <span style=\"color: rgb(0, 187, 0)\"><span class=\"ansi-green-fg\">7</span></span>)\n",
       "<span style=\"color: rgb(0, 187, 187)\"><span class=\"ansi-cyan-fg\">b</span></span>: <span style=\"color: rgb(0, 187, 0)\"><span class=\"ansi-green-fg\">Array</span></span>[<span style=\"color: rgb(0, 187, 0)\"><span class=\"ansi-green-fg\">Int</span></span>] = <span style=\"color: yellow\"><span class=\"ansi-yellow-fg\">Array</span></span>(<span style=\"color: rgb(0, 187, 0)\"><span class=\"ansi-green-fg\">4</span></span>, <span style=\"color: rgb(0, 187, 0)\"><span class=\"ansi-green-fg\">9</span></span>, <span style=\"color: rgb(0, 187, 0)\"><span class=\"ansi-green-fg\">16</span></span>, <span style=\"color: rgb(0, 187, 0)\"><span class=\"ansi-green-fg\">25</span></span>, <span style=\"color: rgb(0, 187, 0)\"><span class=\"ansi-green-fg\">36</span></span>, <span style=\"color: rgb(0, 187, 0)\"><span class=\"ansi-green-fg\">49</span></span>, <span style=\"color: rgb(0, 187, 0)\"><span class=\"ansi-green-fg\">64</span></span>)</code></pre>\n",
       "</div>"
      ],
      "text/plain": [
       "\u001b[36mres66_0\u001b[39m: \u001b[32mArray\u001b[39m[\u001b[32mInt\u001b[39m] = \u001b[33mArray\u001b[39m(\u001b[32m1\u001b[39m, \u001b[32m2\u001b[39m, \u001b[32m3\u001b[39m, \u001b[32m4\u001b[39m, \u001b[32m5\u001b[39m, \u001b[32m6\u001b[39m, \u001b[32m7\u001b[39m)\n",
       "\u001b[36mb\u001b[39m: \u001b[32mArray\u001b[39m[\u001b[32mInt\u001b[39m] = \u001b[33mArray\u001b[39m(\u001b[32m4\u001b[39m, \u001b[32m9\u001b[39m, \u001b[32m16\u001b[39m, \u001b[32m25\u001b[39m, \u001b[32m36\u001b[39m, \u001b[32m49\u001b[39m, \u001b[32m64\u001b[39m)"
      ]
     },
     "metadata": {},
     "output_type": "display_data"
    }
   ],
   "source": [
    "num\n",
    "var b = num.map(a=>a+1).map(b=>b*b)"
   ]
  },
  {
   "cell_type": "code",
   "execution_count": null,
   "id": "c7a8e34a-e0b5-41d2-ba79-a89c6089e5ec",
   "metadata": {},
   "outputs": [],
   "source": []
  }
 ],
 "metadata": {
  "kernelspec": {
   "display_name": "Scala",
   "language": "scala",
   "name": "scala"
  },
  "language_info": {
   "codemirror_mode": "text/x-scala",
   "file_extension": ".sc",
   "mimetype": "text/x-scala",
   "name": "scala",
   "nbconvert_exporter": "script",
   "version": "2.13.12"
  }
 },
 "nbformat": 4,
 "nbformat_minor": 5
}
