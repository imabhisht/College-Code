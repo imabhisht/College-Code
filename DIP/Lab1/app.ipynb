{
 "cells": [
  {
   "cell_type": "code",
   "execution_count": 4,
   "metadata": {},
   "outputs": [
    {
     "name": "stdout",
     "output_type": "stream",
     "text": [
      "Requirement already satisfied: pillow in /home/imabhisht/.pyenv/versions/3.11.5/envs/ap_college/lib/python3.11/site-packages (10.1.0)\n",
      "\n",
      "\u001b[1m[\u001b[0m\u001b[34;49mnotice\u001b[0m\u001b[1;39;49m]\u001b[0m\u001b[39;49m A new release of pip is available: \u001b[0m\u001b[31;49m23.2.1\u001b[0m\u001b[39;49m -> \u001b[0m\u001b[32;49m23.3.2\u001b[0m\n",
      "\u001b[1m[\u001b[0m\u001b[34;49mnotice\u001b[0m\u001b[1;39;49m]\u001b[0m\u001b[39;49m To update, run: \u001b[0m\u001b[32;49mpip install --upgrade pip\u001b[0m\n",
      "Note: you may need to restart the kernel to use updated packages.\n"
     ]
    }
   ],
   "source": [
    "# Requirements\n",
    "%pip install pillow"
   ]
  },
  {
   "cell_type": "code",
   "execution_count": 70,
   "metadata": {},
   "outputs": [],
   "source": [
    "from PIL import Image\n",
    "import os"
   ]
  },
  {
   "cell_type": "code",
   "execution_count": 30,
   "metadata": {},
   "outputs": [],
   "source": [
    "image = Image.open(\"../data/sample_1.jpeg\")\n",
    "# image ## To View the Image"
   ]
  },
  {
   "cell_type": "code",
   "execution_count": 38,
   "metadata": {},
   "outputs": [],
   "source": [
    "# Dimension of the Image\n",
    "image_width, image_height = image.size\n",
    "\n",
    "# File Name\n",
    "image_filename = image.filename\n",
    "\n",
    "# Format of File\n",
    "image_format = image.format\n",
    "\n",
    "# Format Description\n",
    "image_format_desc = image.format_description"
   ]
  },
  {
   "cell_type": "code",
   "execution_count": 72,
   "metadata": {},
   "outputs": [],
   "source": [
    "def image_info(file_path):\n",
    "    image = Image.open(file_path)\n",
    "    print(\"Width & Height: \", image.size)\n",
    "    print(\"Format: \", image.format)\n",
    "    print(\"Format Desc: \", image.format_description)\n",
    "    print(\"Image Size: \",os.path.getsize(file_path))\n",
    "    # print(\"Below is the Image: \")\n",
    "    # image.show()\n"
   ]
  },
  {
   "cell_type": "code",
   "execution_count": 62,
   "metadata": {},
   "outputs": [],
   "source": [
    "def image_quality(filename,quality=0,optimize=True, info=True):\n",
    "    alpha = filename.split(\".\")\n",
    "    alpha[len(alpha)-2] = alpha[len(alpha)-2]+\"_compressed\"\n",
    "    image.save(\".\".join(alpha), quality=quality, optimize=optimize)\n",
    "    return \".\".join(alpha)"
   ]
  },
  {
   "cell_type": "code",
   "execution_count": 81,
   "metadata": {},
   "outputs": [],
   "source": [
    "def image_conversion(filename, format):\n",
    "    # Image Conversion\n",
    "    alpha = filename.split(\".\")\n",
    "    alpha[len(alpha)-1] = format\n",
    "    file_name = \".\".join(alpha)\n",
    "    image.save(\".\".join(alpha))\n",
    "    return \".\".join(alpha)"
   ]
  },
  {
   "cell_type": "code",
   "execution_count": 83,
   "metadata": {},
   "outputs": [],
   "source": [
    "def image_dpi_change(filename, dpi):\n",
    "    # Image DPI Change\n",
    "    alpha = filename.split(\".\")\n",
    "    alpha[len(alpha)-2] = alpha[len(alpha)-2]+\"_dpi\"\n",
    "    image.save(\".\".join(alpha), dpi=(dpi,dpi))\n",
    "    return \".\".join(alpha)"
   ]
  },
  {
   "cell_type": "code",
   "execution_count": 87,
   "metadata": {},
   "outputs": [
    {
     "name": "stdout",
     "output_type": "stream",
     "text": [
      "=======================\n",
      "Original Size: \n",
      "Width & Height:  (1920, 1280)\n",
      "Format:  JPEG\n",
      "Format Desc:  JPEG (ISO 10918)\n",
      "Image Size:  768552\n",
      "=======================\n",
      "Compressed Size: \n",
      "Width & Height:  (1920, 1280)\n",
      "Format:  JPEG\n",
      "Format Desc:  JPEG (ISO 10918)\n",
      "Image Size:  305872\n",
      "=======================\n",
      "Formated Size: \n",
      "Width & Height:  (1920, 1280)\n",
      "Format:  JPEG\n",
      "Format Desc:  JPEG (ISO 10918)\n",
      "Image Size:  768552\n",
      "=======================\n",
      "DPI Size: \n",
      "Width & Height:  (1920, 1280)\n",
      "Format:  JPEG\n",
      "Format Desc:  JPEG (ISO 10918)\n",
      "Image Size:  768552\n",
      "=======================\n"
     ]
    }
   ],
   "source": [
    "\n",
    "\n",
    "\n",
    "\n",
    "original_file_path = image_filename\n",
    "filepath_2 = image_conversion(original_file_path, \"png\")\n",
    "filepath_3 = image_dpi_change(original_file_path, 300)\n",
    "\n",
    "print(\"=======================\")\n",
    "\n",
    "print(\"Original Size: \")\n",
    "image_info(original_file_path)\n",
    "\n",
    "print(\"=======================\")\n",
    "\n",
    "print(\"Compressed Size: \")\n",
    "image_info(image_quality(original_file_path, 50))\n",
    "\n",
    "print(\"=======================\")\n",
    "\n",
    "print(\"Formated Size: \")\n",
    "image_info(original_file_path)\n",
    "\n",
    "print(\"=======================\")\n",
    "\n",
    "print(\"DPI Size: \")\n",
    "image_info(original_file_path)\n",
    "\n",
    "print(\"=======================\")\n"
   ]
  }
 ],
 "metadata": {
  "kernelspec": {
   "display_name": "ap_college",
   "language": "python",
   "name": "python3"
  },
  "language_info": {
   "codemirror_mode": {
    "name": "ipython",
    "version": 3
   },
   "file_extension": ".py",
   "mimetype": "text/x-python",
   "name": "python",
   "nbconvert_exporter": "python",
   "pygments_lexer": "ipython3",
   "version": "3.11.5"
  }
 },
 "nbformat": 4,
 "nbformat_minor": 2
}
